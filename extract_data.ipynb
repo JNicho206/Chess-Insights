{
 "cells": [
  {
   "cell_type": "code",
   "execution_count": 3,
   "metadata": {},
   "outputs": [],
   "source": [
    "import pandas as pd\n",
    "import pyarrow as pa\n",
    "import pyarrow.parquet as pq\n",
    "import json"
   ]
  },
  {
   "cell_type": "code",
   "execution_count": 4,
   "metadata": {},
   "outputs": [],
   "source": [
    "target = \"/Users/jonah/Desktop/Projects/Chess-Insights/lichess_db_standard_rated_2020-01.parquet\"\n",
    "date = target.split(\"_\")[-1].split(\".\")[0]\n",
    "OUT = \"/Users/jonah/Desktop/Projects/Chess-Insights/\" f\"lichess_{date}_analytics\" + \".json\"\n",
    "data = {\n",
    "    \"openings\": {},\n",
    "    \"time_controls\": {},\n",
    "    \"terminations\": {}\n",
    "}\n",
    "file = pq.ParquetFile(target)"
   ]
  },
  {
   "cell_type": "code",
   "execution_count": 5,
   "metadata": {},
   "outputs": [],
   "source": [
    "def elo_to_category(elo):\n",
    "    if elo < 800:\n",
    "        return \"beginner\"\n",
    "    if elo < 1600:\n",
    "        return \"intermediate\"\n",
    "    return \"advanced\""
   ]
  },
  {
   "cell_type": "code",
   "execution_count": null,
   "metadata": {},
   "outputs": [],
   "source": [
    "# Prepare the data dictionary\n",
    "data = {\n",
    "    \"openings\": {},\n",
    "    \"ecos\": {},\n",
    "    \"time_controls\": {},\n",
    "    \"terminations\": {}\n",
    "}\n",
    "\n",
    "i = 1\n",
    "\n",
    "# Process the parquet file in batches\n",
    "for batch in file.iter_batches():\n",
    "    # Convert batch to pandas DataFrame\n",
    "    df = batch.to_pandas()\n",
    "\n",
    "    # Vectorize the elo_to_category function using pandas apply\n",
    "    df['category'] = df['white_elo'].apply(elo_to_category)\n",
    "\n",
    "    # Group by 'opening', 'time_control', and 'termination', and count the games by category\n",
    "    openings_group = df.groupby(['opening', 'category']).size().reset_index(name='games')\n",
    "    time_controls_group = df.groupby(['time_control', 'category']).size().reset_index(name='games')\n",
    "    terminations_group = df.groupby(['termination', 'category']).size().reset_index(name='games')\n",
    "    eco_group = df.groupby(['eco', 'category']).size().reset_index(name='games')\n",
    "\n",
    "    # Update the data dictionary for openings\n",
    "    for _, row in openings_group.iterrows():\n",
    "        opening = row['opening']\n",
    "        category = row['category']\n",
    "        games = row['games']\n",
    "        if opening not in data['openings']:\n",
    "            data['openings'][opening] = {\"beginner\": {\"games\": 0}, \"intermediate\": {\"games\": 0}, \"advanced\": {\"games\": 0}}\n",
    "        data['openings'][opening][category][\"games\"] += games\n",
    "\n",
    "    # Update the data dictionary for time controls\n",
    "    for _, row in time_controls_group.iterrows():\n",
    "        time_control = row['time_control']\n",
    "        category = row['category']\n",
    "        games = row['games']\n",
    "        if time_control not in data['time_controls']:\n",
    "            data['time_controls'][time_control] = {\"beginner\": {\"games\": 0}, \"intermediate\": {\"games\": 0}, \"advanced\": {\"games\": 0}}\n",
    "        data['time_controls'][time_control][category][\"games\"] += games\n",
    "\n",
    "    # Update the data dictionary for terminations\n",
    "    for _, row in terminations_group.iterrows():\n",
    "        termination = row['termination']\n",
    "        category = row['category']\n",
    "        games = row['games']\n",
    "        if termination not in data['terminations']:\n",
    "            data['terminations'][termination] = {\"beginner\": {\"games\": 0}, \"intermediate\": {\"games\": 0}, \"advanced\": {\"games\": 0}}\n",
    "        data['terminations'][termination][category][\"games\"] += games\n",
    "\n",
    "    for _, row in eco_group.iterrows():\n",
    "        eco = row['eco']\n",
    "        category = row['category']\n",
    "        games = row['games']\n",
    "        if eco not in data['ecos']:\n",
    "            data['ecos'][eco] = {\"beginner\": {\"games\": 0}, \"intermediate\": {\"games\": 0}, \"advanced\": {\"games\": 0}}\n",
    "        data['ecos'][eco][category][\"games\"] += games\n",
    "    \n",
    "    if i % 5 == 0:\n",
    "        print(f\"Processed batch {i}\")\n",
    "    i += 1"
   ]
  },
  {
   "cell_type": "code",
   "execution_count": 2,
   "metadata": {},
   "outputs": [],
   "source": [
    "import re\n",
    "\n",
    "def count_moves(pgn_string):\n",
    "    # Remove comments and metadata\n",
    "    pgn_string = re.sub(r'\\{[^}]*\\}|\\[.*?\\]', '', pgn_string)\n",
    "    \n",
    "    # Find move notations (e.g., \"1. e4 e5 2. Nf3 Nc6\")\n",
    "    moves = re.findall(r'\\b\\d+\\.\\s+[a-zA-Z0-9+#=\\s]+', pgn_string)\n",
    "    \n",
    "    # Split moves and count them\n",
    "    move_count = sum(len(re.findall(r'\\b[a-h][1-8][a-h][1-8]|[a-h][1-8]|[O\\-]{3,5}|[KQNRB]?[a-h]?[1-8]?x?[a-h][1-8]|[KQNRB][a-h1-8]\\+?', move)) for move in moves)\n",
    "    \n",
    "    return move_count"
   ]
  },
  {
   "cell_type": "code",
   "execution_count": 13,
   "metadata": {},
   "outputs": [
    {
     "name": "stdout",
     "output_type": "stream",
     "text": [
      "Processed batch 5\n",
      "Processed batch 10\n",
      "Processed batch 15\n",
      "Processed batch 20\n",
      "Processed batch 25\n"
     ]
    },
    {
     "ename": "KeyboardInterrupt",
     "evalue": "",
     "output_type": "error",
     "traceback": [
      "\u001b[0;31m---------------------------------------------------------------------------\u001b[0m",
      "\u001b[0;31mKeyboardInterrupt\u001b[0m                         Traceback (most recent call last)",
      "Cell \u001b[0;32mIn[13], line 22\u001b[0m\n\u001b[1;32m     19\u001b[0m moves_group \u001b[38;5;241m=\u001b[39m df\u001b[38;5;241m.\u001b[39mgroupby([\u001b[38;5;124m'\u001b[39m\u001b[38;5;124mmoves\u001b[39m\u001b[38;5;124m'\u001b[39m, \u001b[38;5;124m'\u001b[39m\u001b[38;5;124mcategory\u001b[39m\u001b[38;5;124m'\u001b[39m])\u001b[38;5;241m.\u001b[39msize()\u001b[38;5;241m.\u001b[39mreset_index(name\u001b[38;5;241m=\u001b[39m\u001b[38;5;124m'\u001b[39m\u001b[38;5;124mgames\u001b[39m\u001b[38;5;124m'\u001b[39m)\n\u001b[1;32m     21\u001b[0m \u001b[38;5;66;03m# Update the data dictionary for openings\u001b[39;00m\n\u001b[0;32m---> 22\u001b[0m \u001b[38;5;28;01mfor\u001b[39;00m _, row \u001b[38;5;129;01min\u001b[39;00m moves_group\u001b[38;5;241m.\u001b[39miterrows():\n\u001b[1;32m     23\u001b[0m     moves \u001b[38;5;241m=\u001b[39m row[\u001b[38;5;124m'\u001b[39m\u001b[38;5;124mmoves\u001b[39m\u001b[38;5;124m'\u001b[39m]\n\u001b[1;32m     24\u001b[0m     category \u001b[38;5;241m=\u001b[39m row[\u001b[38;5;124m'\u001b[39m\u001b[38;5;124mcategory\u001b[39m\u001b[38;5;124m'\u001b[39m]\n",
      "File \u001b[0;32m/Library/Frameworks/Python.framework/Versions/3.10/lib/python3.10/site-packages/pandas/core/frame.py:1324\u001b[0m, in \u001b[0;36mDataFrame.iterrows\u001b[0;34m(self)\u001b[0m\n\u001b[1;32m   1322\u001b[0m klass \u001b[38;5;241m=\u001b[39m \u001b[38;5;28mself\u001b[39m\u001b[38;5;241m.\u001b[39m_constructor_sliced\n\u001b[1;32m   1323\u001b[0m \u001b[38;5;28;01mfor\u001b[39;00m k, v \u001b[38;5;129;01min\u001b[39;00m \u001b[38;5;28mzip\u001b[39m(\u001b[38;5;28mself\u001b[39m\u001b[38;5;241m.\u001b[39mindex, \u001b[38;5;28mself\u001b[39m\u001b[38;5;241m.\u001b[39mvalues):\n\u001b[0;32m-> 1324\u001b[0m     s \u001b[38;5;241m=\u001b[39m \u001b[43mklass\u001b[49m\u001b[43m(\u001b[49m\u001b[43mv\u001b[49m\u001b[43m,\u001b[49m\u001b[43m \u001b[49m\u001b[43mindex\u001b[49m\u001b[38;5;241;43m=\u001b[39;49m\u001b[43mcolumns\u001b[49m\u001b[43m,\u001b[49m\u001b[43m \u001b[49m\u001b[43mname\u001b[49m\u001b[38;5;241;43m=\u001b[39;49m\u001b[43mk\u001b[49m\u001b[43m)\u001b[49m\n\u001b[1;32m   1325\u001b[0m     \u001b[38;5;28;01myield\u001b[39;00m k, s\n",
      "File \u001b[0;32m/Library/Frameworks/Python.framework/Versions/3.10/lib/python3.10/site-packages/pandas/core/series.py:367\u001b[0m, in \u001b[0;36mSeries.__init__\u001b[0;34m(self, data, index, dtype, name, copy, fastpath)\u001b[0m\n\u001b[1;32m    363\u001b[0m \u001b[38;5;28;01melse\u001b[39;00m:\n\u001b[1;32m    365\u001b[0m     name \u001b[38;5;241m=\u001b[39m ibase\u001b[38;5;241m.\u001b[39mmaybe_extract_name(name, data, \u001b[38;5;28mtype\u001b[39m(\u001b[38;5;28mself\u001b[39m))\n\u001b[0;32m--> 367\u001b[0m     \u001b[38;5;28;01mif\u001b[39;00m \u001b[43mis_empty_data\u001b[49m\u001b[43m(\u001b[49m\u001b[43mdata\u001b[49m\u001b[43m)\u001b[49m \u001b[38;5;129;01mand\u001b[39;00m dtype \u001b[38;5;129;01mis\u001b[39;00m \u001b[38;5;28;01mNone\u001b[39;00m:\n\u001b[1;32m    368\u001b[0m         \u001b[38;5;66;03m# gh-17261\u001b[39;00m\n\u001b[1;32m    369\u001b[0m         warnings\u001b[38;5;241m.\u001b[39mwarn(\n\u001b[1;32m    370\u001b[0m             \u001b[38;5;124m\"\u001b[39m\u001b[38;5;124mThe default dtype for empty Series will be \u001b[39m\u001b[38;5;124m'\u001b[39m\u001b[38;5;124mobject\u001b[39m\u001b[38;5;124m'\u001b[39m\u001b[38;5;124m instead \u001b[39m\u001b[38;5;124m\"\u001b[39m\n\u001b[1;32m    371\u001b[0m             \u001b[38;5;124m\"\u001b[39m\u001b[38;5;124mof \u001b[39m\u001b[38;5;124m'\u001b[39m\u001b[38;5;124mfloat64\u001b[39m\u001b[38;5;124m'\u001b[39m\u001b[38;5;124m in a future version. Specify a dtype explicitly \u001b[39m\u001b[38;5;124m\"\u001b[39m\n\u001b[0;32m   (...)\u001b[0m\n\u001b[1;32m    374\u001b[0m             stacklevel\u001b[38;5;241m=\u001b[39mfind_stack_level(),\n\u001b[1;32m    375\u001b[0m         )\n\u001b[1;32m    376\u001b[0m         \u001b[38;5;66;03m# uncomment the line below when removing the FutureWarning\u001b[39;00m\n\u001b[1;32m    377\u001b[0m         \u001b[38;5;66;03m# dtype = np.dtype(object)\u001b[39;00m\n",
      "File \u001b[0;32m/Library/Frameworks/Python.framework/Versions/3.10/lib/python3.10/site-packages/pandas/core/construction.py:820\u001b[0m, in \u001b[0;36mis_empty_data\u001b[0;34m(data)\u001b[0m\n\u001b[1;32m    806\u001b[0m \u001b[38;5;250m\u001b[39m\u001b[38;5;124;03m\"\"\"\u001b[39;00m\n\u001b[1;32m    807\u001b[0m \u001b[38;5;124;03mUtility to check if a Series is instantiated with empty data,\u001b[39;00m\n\u001b[1;32m    808\u001b[0m \u001b[38;5;124;03mwhich does not contain dtype information.\u001b[39;00m\n\u001b[0;32m   (...)\u001b[0m\n\u001b[1;32m    817\u001b[0m \u001b[38;5;124;03mbool\u001b[39;00m\n\u001b[1;32m    818\u001b[0m \u001b[38;5;124;03m\"\"\"\u001b[39;00m\n\u001b[1;32m    819\u001b[0m is_none \u001b[38;5;241m=\u001b[39m data \u001b[38;5;129;01mis\u001b[39;00m \u001b[38;5;28;01mNone\u001b[39;00m\n\u001b[0;32m--> 820\u001b[0m is_list_like_without_dtype \u001b[38;5;241m=\u001b[39m \u001b[43mis_list_like\u001b[49m\u001b[43m(\u001b[49m\u001b[43mdata\u001b[49m\u001b[43m)\u001b[49m \u001b[38;5;129;01mand\u001b[39;00m \u001b[38;5;129;01mnot\u001b[39;00m \u001b[38;5;28mhasattr\u001b[39m(data, \u001b[38;5;124m\"\u001b[39m\u001b[38;5;124mdtype\u001b[39m\u001b[38;5;124m\"\u001b[39m)\n\u001b[1;32m    821\u001b[0m is_simple_empty \u001b[38;5;241m=\u001b[39m is_list_like_without_dtype \u001b[38;5;129;01mand\u001b[39;00m \u001b[38;5;129;01mnot\u001b[39;00m data\n\u001b[1;32m    822\u001b[0m \u001b[38;5;28;01mreturn\u001b[39;00m is_none \u001b[38;5;129;01mor\u001b[39;00m is_simple_empty\n",
      "\u001b[0;31mKeyboardInterrupt\u001b[0m: "
     ]
    }
   ],
   "source": [
    "# Prepare the data dictionary\n",
    "data = {\n",
    "    \"beginner\": {\"count\": 0, \"n\": 0},\n",
    "    \"intermediate\": {\"count\": 0, \"n\": 0},\n",
    "    \"advanced\": {\"count\": 0, \"n\": 0}\n",
    "}\n",
    "\n",
    "i = 1\n",
    "\n",
    "# Process the parquet file in batches\n",
    "for batch in file.iter_batches():\n",
    "    # Convert batch to pandas DataFrame\n",
    "    df = batch.to_pandas()\n",
    "\n",
    "    # Vectorize the elo_to_category function using pandas apply\n",
    "    df['category'] = df['white_elo'].apply(elo_to_category)\n",
    "\n",
    "    # Group by 'opening', 'time_control', and 'termination', and count the games by category\n",
    "    moves_group = df.groupby(['moves', 'category']).size().reset_index(name='games')\n",
    "\n",
    "    # Update the data dictionary for openings\n",
    "    for _, row in moves_group.iterrows():\n",
    "        moves = row['moves']\n",
    "        category = row['category']\n",
    "        games = row['games']\n",
    "        n_moves = count_moves(moves)\n",
    "        data[category][\"count\"] += n_moves\n",
    "        data[category][\"n\"] += 1\n",
    "\n",
    "    if i % 5 == 0:\n",
    "        print(f\"Processed batch {i}\")\n",
    "    i += 1\n"
   ]
  },
  {
   "cell_type": "code",
   "execution_count": 16,
   "metadata": {},
   "outputs": [
    {
     "data": {
      "text/plain": [
       "{'beginner': 23.024770642201833,\n",
       " 'intermediate': 30.41630170729192,\n",
       " 'advanced': 35.57078990408999}"
      ]
     },
     "execution_count": 16,
     "metadata": {},
     "output_type": "execute_result"
    }
   ],
   "source": [
    "data"
   ]
  },
  {
   "cell_type": "code",
   "execution_count": 15,
   "metadata": {},
   "outputs": [],
   "source": [
    "data = {k: v[\"count\"] / v[\"n\"] for k, v in data.items()}\n",
    "\n",
    "\n",
    "\n",
    "\n",
    "\n",
    "\n",
    "\n",
    "\n",
    "\n",
    "\n",
    "\n",
    "\n",
    "\n",
    "\n",
    "\n",
    "\n",
    "\n",
    "\n",
    "\n"
   ]
  },
  {
   "cell_type": "code",
   "execution_count": 17,
   "metadata": {},
   "outputs": [],
   "source": [
    "with open(\"./moves.json\", \"w\") as f:\n",
    "    json.dump(data, f, indent=4)"
   ]
  },
  {
   "cell_type": "code",
   "execution_count": null,
   "metadata": {},
   "outputs": [],
   "source": []
  }
 ],
 "metadata": {
  "kernelspec": {
   "display_name": "Python 3",
   "language": "python",
   "name": "python3"
  },
  "language_info": {
   "codemirror_mode": {
    "name": "ipython",
    "version": 3
   },
   "file_extension": ".py",
   "mimetype": "text/x-python",
   "name": "python",
   "nbconvert_exporter": "python",
   "pygments_lexer": "ipython3",
   "version": "3.10.5"
  }
 },
 "nbformat": 4,
 "nbformat_minor": 2
}
