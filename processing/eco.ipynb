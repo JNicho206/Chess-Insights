{
 "cells": [
  {
   "cell_type": "code",
   "execution_count": 12,
   "metadata": {},
   "outputs": [],
   "source": [
    "import pandas as pd\n",
    "from sqlalchemy import create_engine"
   ]
  },
  {
   "cell_type": "code",
   "execution_count": 2,
   "metadata": {},
   "outputs": [],
   "source": [
    "a_df = pd.read_csv('Projects/Chess-Insights/openings/a.tsv', sep='\\t')\n",
    "b_df = pd.read_csv('Projects/Chess-Insights/openings/b.tsv', sep='\\t')\n",
    "c_df = pd.read_csv('Projects/Chess-Insights/openings/c.tsv', sep='\\t')\n",
    "d_df = pd.read_csv('Projects/Chess-Insights/openings/d.tsv', sep='\\t')\n",
    "e_df = pd.read_csv('Projects/Chess-Insights/openings/e.tsv', sep='\\t')"
   ]
  },
  {
   "cell_type": "code",
   "execution_count": null,
   "metadata": {},
   "outputs": [],
   "source": [
    "a_df.describe()"
   ]
  },
  {
   "cell_type": "code",
   "execution_count": null,
   "metadata": {},
   "outputs": [],
   "source": [
    "b_df.head()"
   ]
  },
  {
   "cell_type": "code",
   "execution_count": null,
   "metadata": {},
   "outputs": [],
   "source": [
    "c_df.head()"
   ]
  },
  {
   "cell_type": "code",
   "execution_count": null,
   "metadata": {},
   "outputs": [],
   "source": [
    "d_df.head()"
   ]
  },
  {
   "cell_type": "code",
   "execution_count": null,
   "metadata": {},
   "outputs": [],
   "source": [
    "e_df.head()"
   ]
  },
  {
   "cell_type": "code",
   "execution_count": null,
   "metadata": {},
   "outputs": [],
   "source": [
    "# Replace with your actual Azure PostgreSQL database credentials\n",
    "username = \"jonah\"\n",
    "password = \"synvax-pupJum-8tochi\"\n",
    "host = \"chess-insights.postgres.database.azure.com\"  # Azure-hosted PostgreSQL server\n",
    "port = \"5432\"  # Default PostgreSQL port\n",
    "dbname = \"chess\"\n",
    "\n",
    "# Construct the connection string for SQLAlchemy\n",
    "engine = create_engine(f'postgresql+psycopg2://{username}:{password}@{host}:{port}/{dbname}', connect_args={'sslmode': 'require'})\n",
    "\n",
    "# Example DataFrame to insert (assume df is your DataFrame)\n",
    "a_df.to_sql('opening', engine, if_exists='append', index=False)"
   ]
  },
  {
   "cell_type": "code",
   "execution_count": null,
   "metadata": {},
   "outputs": [],
   "source": [
    "b_df.to_sql('opening', engine, if_exists='append', index=False)\n",
    "c_df.to_sql('opening', engine, if_exists='append', index=False)\n",
    "d_df.to_sql('opening', engine, if_exists='append', index=False)\n",
    "e_df.to_sql('opening', engine, if_exists='append', index=False)"
   ]
  },
  {
   "cell_type": "code",
   "execution_count": null,
   "metadata": {},
   "outputs": [],
   "source": []
  }
 ],
 "metadata": {
  "kernelspec": {
   "display_name": "Python 3",
   "language": "python",
   "name": "python3"
  },
  "language_info": {
   "codemirror_mode": {
    "name": "ipython",
    "version": 3
   },
   "file_extension": ".py",
   "mimetype": "text/x-python",
   "name": "python",
   "nbconvert_exporter": "python",
   "pygments_lexer": "ipython3",
   "version": "3.10.5"
  }
 },
 "nbformat": 4,
 "nbformat_minor": 2
}
